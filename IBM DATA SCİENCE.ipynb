{
 "cells": [
  {
   "cell_type": "code",
   "execution_count": 29,
   "id": "ac428f9b-69d0-4667-9bce-118033812f39",
   "metadata": {},
   "outputs": [
    {
     "data": {
      "text/plain": [
       "'Data Science Tools  Ecosystem'"
      ]
     },
     "execution_count": 29,
     "metadata": {},
     "output_type": "execute_result"
    }
   ],
   "source": [
    "\"Data Science Tools and Ecosystem\""
   ]
  },
  {
   "cell_type": "code",
   "execution_count": 37,
   "id": "f15006f9-61ef-445f-83d3-289a8caa6a05",
   "metadata": {},
   "outputs": [
    {
     "data": {
      "text/plain": [
       "'In this notebook, Data Science Tools and Ecosystem are summarized.'"
      ]
     },
     "execution_count": 37,
     "metadata": {},
     "output_type": "execute_result"
    }
   ],
   "source": [
    "\"In this notebook, Data Science Tools and Ecosystem are summarized.\""
   ]
  },
  {
   "cell_type": "code",
   "execution_count": 43,
   "id": "673bad9a-5cda-4445-bed7-fe6ae42a7d06",
   "metadata": {},
   "outputs": [
    {
     "data": {
      "text/plain": [
       "'Some of the popular languages that Data Scientists use are:\\n\\n1. Python\\n2. R\\n3. SQL\\n'"
      ]
     },
     "execution_count": 43,
     "metadata": {},
     "output_type": "execute_result"
    }
   ],
   "source": [
    "\"\"\"Some of the popular languages that Data Scientists use are:\n",
    "\n",
    "1. Python\n",
    "2. R\n",
    "3. SQL\n",
    "\"\"\""
   ]
  },
  {
   "cell_type": "code",
   "execution_count": 45,
   "id": "ae8eca2d-8094-49f3-b60e-3ecef56b88c4",
   "metadata": {},
   "outputs": [
    {
     "data": {
      "text/plain": [
       "'Veri bilimcilerin yaygın olarak kullandığı bazı kütüphaneler şunlardır:\\n\\n1. NumPy\\n2. pandas\\n3. scikit-learn\\n4. TensorFlow\\n5. Keras\\n'"
      ]
     },
     "execution_count": 45,
     "metadata": {},
     "output_type": "execute_result"
    }
   ],
   "source": [
    "\"\"\"Veri bilimcilerin yaygın olarak kullandığı bazı kütüphaneler şunlardır:\n",
    "\n",
    "1. NumPy\n",
    "2. pandas\n",
    "3. scikit-learn\n",
    "4. TensorFlow\n",
    "5. Keras\n",
    "\"\"\""
   ]
  },
  {
   "cell_type": "code",
   "execution_count": 49,
   "id": "f087786a-f47c-48ec-be7e-ac4406ff329e",
   "metadata": {},
   "outputs": [
    {
     "data": {
      "text/plain": [
       "'\\n| Data Science Tools |\\n|--------------------|\\n| Jupyter Notebook   |\\n| RStudio            |\\n| Google Colab       |\\n'"
      ]
     },
     "execution_count": 49,
     "metadata": {},
     "output_type": "execute_result"
    }
   ],
   "source": [
    "\"\"\"\n",
    "| Data Science Tools |\n",
    "|--------------------|\n",
    "| Jupyter Notebook   |\n",
    "| RStudio            |\n",
    "| Google Colab       |\n",
    "\"\"\""
   ]
  },
  {
   "cell_type": "code",
   "execution_count": 51,
   "id": "24115d5f-81f4-4f52-adc7-cc4ecf4a431d",
   "metadata": {},
   "outputs": [],
   "source": [
    "### Below are a few examples of evaluating arithmetic expressions in Python.\n"
   ]
  },
  {
   "cell_type": "code",
   "execution_count": 53,
   "id": "e8a7ad1a-ee6a-4528-a8e1-1208aad656c0",
   "metadata": {},
   "outputs": [
    {
     "data": {
      "text/plain": [
       "17"
      ]
     },
     "execution_count": 53,
     "metadata": {},
     "output_type": "execute_result"
    }
   ],
   "source": [
    "# This is a simple arithmetic expression to multiply then add integers\n",
    "result = (3 * 4) + 5\n",
    "result\n"
   ]
  },
  {
   "cell_type": "code",
   "execution_count": 55,
   "id": "9c9fac36-6c7f-4fbd-9d68-b232e9387f8d",
   "metadata": {},
   "outputs": [
    {
     "data": {
      "text/plain": [
       "3.3333333333333335"
      ]
     },
     "execution_count": 55,
     "metadata": {},
     "output_type": "execute_result"
    }
   ],
   "source": [
    "# This will convert 200 minutes to hours by dividing by 60\n",
    "minutes = 200\n",
    "hours = minutes / 60\n",
    "hours\n"
   ]
  },
  {
   "cell_type": "code",
   "execution_count": 61,
   "id": "b784a0ac-9af8-4203-a88f-11f083586aab",
   "metadata": {},
   "outputs": [
    {
     "data": {
      "text/plain": [
       "'**Objectives:**\\n\\n- List popular languages for Data Science\\n- Demonstrate use of Markdown cells\\n- Perform basic arithmetic operations in Python\\n- Convert minutes to hours in Python\\n- Create and interpret tables in Markdown\\n'"
      ]
     },
     "execution_count": 61,
     "metadata": {},
     "output_type": "execute_result"
    }
   ],
   "source": [
    "\"\"\"**Objectives:**\n",
    "\n",
    "- List popular languages for Data Science\n",
    "- Demonstrate use of Markdown cells\n",
    "- Perform basic arithmetic operations in Python\n",
    "- Convert minutes to hours in Python\n",
    "- Create and interpret tables in Markdown\n",
    "\"\"\""
   ]
  },
  {
   "cell_type": "code",
   "execution_count": 63,
   "id": "de2e1c82-0451-473e-8fde-d74280aeee3d",
   "metadata": {},
   "outputs": [
    {
     "data": {
      "text/plain": [
       "'\\n## Author\\n\\nYusuf Bilgi\\n'"
      ]
     },
     "execution_count": 63,
     "metadata": {},
     "output_type": "execute_result"
    }
   ],
   "source": [
    "\"\"\"\n",
    "## Author\n",
    "\n",
    "Yusuf Bilgi\n",
    "\"\"\""
   ]
  },
  {
   "cell_type": "code",
   "execution_count": null,
   "id": "6c977c92-151a-4ab5-a1e7-5d2e91b6b517",
   "metadata": {},
   "outputs": [],
   "source": []
  }
 ],
 "metadata": {
  "kernelspec": {
   "display_name": "Python 3 (ipykernel)",
   "language": "python",
   "name": "python3"
  },
  "language_info": {
   "codemirror_mode": {
    "name": "ipython",
    "version": 3
   },
   "file_extension": ".py",
   "mimetype": "text/x-python",
   "name": "python",
   "nbconvert_exporter": "python",
   "pygments_lexer": "ipython3",
   "version": "3.12.4"
  }
 },
 "nbformat": 4,
 "nbformat_minor": 5
}
